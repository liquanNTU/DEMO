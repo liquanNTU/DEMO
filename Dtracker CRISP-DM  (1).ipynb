{
 "cells": [
  {
   "cell_type": "markdown",
   "metadata": {},
   "source": [
    "# **edition1wakakkakakakakdssDTracker Advanced Analytics**\n",
    "## *CRISP-DM Workbook*\n",
    "## *CRoss Industry Standard Process for Data Mining*"
   ]
  },
  {
   "cell_type": "markdown",
   "metadata": {},
   "source": [
    "Agenda\n",
    "\n",
    "Dtracker Advanced Analytics: Revenue/Profit/EGM Analysis + Simulation\n",
    "\n",
    "CRISP-DM framework\n",
    "\n",
    " - Business Understanding\n",
    " - Data Understanding\n",
    " - Data Preparation\n",
    " - Modeling\n",
    " - Evaluation\n",
    " - Deployment"
   ]
  },
  {
   "cell_type": "markdown",
   "metadata": {},
   "source": [
    "Advanced Analytics Implementation Methodology: CRISP-DM Approach\u000b",
    "(CRoss Industry Standard Process for Data Mining)"
   ]
  },
  {
   "cell_type": "markdown",
   "metadata": {},
   "source": [
    "CRISP-DM, still the top methodology for analytics, data mining, or data science projects”\n",
    "\n",
    "<img src=\"a.png\" alt=\"Drawing\" style=\"width: 800px;\"/>\n",
    "\n",
    "- From KDnuggets 2014 poll: http://www.kdnuggets.com/2014/10/crisp-dm-top-methodology-analytics-data-mining-data-science-projects.html\n",
    "\n",
    "- Methodology handbook available from: http://www-staff.it.uts.edu.au/~paulk/teaching/dmkdd/ass2/readings/methodology/CRISPWP-0800.pdf \n",
    "\n",
    "- (alternate document with clearer graphics (with SPSS branding): https://the-modeling-agency.com/crisp-dm.pdf"
   ]
  },
  {
   "cell_type": "markdown",
   "metadata": {},
   "source": [
    "## Crisp-DM Methodology "
   ]
  },
  {
   "cell_type": "markdown",
   "metadata": {},
   "source": [
    "<img src=\"b.png\" alt=\"Drawing\" style=\"width: 800px;\"/>"
   ]
  },
  {
   "cell_type": "markdown",
   "metadata": {},
   "source": [
    "## Objectives of CRISP-DM Workbook"
   ]
  },
  {
   "cell_type": "markdown",
   "metadata": {},
   "source": [
    "- Guide team on steps using a standard process template\n",
    "- Document steps\n",
    "- Document outstanding questions and their resolutions\n",
    "- Document action items and their resolutions\n",
    "- Document assumptions and reasons for key decisions\n",
    "- Ensure reproducibility\n",
    "- Facilitate leverage for future work\n",
    "- Provide basis for Executive and other presentations"
   ]
  },
  {
   "cell_type": "markdown",
   "metadata": {},
   "source": [
    "## Business Understanding"
   ]
  },
  {
   "cell_type": "markdown",
   "metadata": {},
   "source": [
    "### Determine Business Objectives"
   ]
  },
  {
   "cell_type": "markdown",
   "metadata": {},
   "source": [
    "The first objective of the data analyst is to thoroughly understand, from\n",
    "a business perspective, what the client really wants to accomplish.\n",
    "Often the client has many competing objectives and constraints that\n",
    "must be properly balanced. The analyst’s goal is to uncover important factors,\n",
    "at the beginning, that can influence the outcome of the project. A\n",
    "possible consequence of neglecting this step is to expend a great deal\n",
    "of effort producing the right answers to the wrong questions."
   ]
  },
  {
   "cell_type": "markdown",
   "metadata": {},
   "source": [
    "#### - Background\n",
    "\n",
    "Record the information that is known about the organization’s business\n",
    "situation at the beginning of the project."
   ]
  },
  {
   "cell_type": "markdown",
   "metadata": {},
   "source": [
    "Activities:"
   ]
  },
  {
   "cell_type": "markdown",
   "metadata": {},
   "source": [
    "#### - Business Objectives\n",
    "\n",
    "Describe the customer’s primary objective, from a business perspective.\n",
    "In addition to the primary business objective, there are typically other\n",
    "related business questions that the customer would like to address.\n",
    "For example, the primary business goal might be to keep current\n",
    "customers by predicting when they are prone to move to a competitor.\n",
    "Examples of related business questions are “How does the primary\n",
    "channel (e.g., ATM, visit branch, internet) a bank customer uses affect\n",
    "whether they stay or go?” or “Will lower ATM fees significantly reduce\n",
    "the number of high-value customers who leave?”"
   ]
  },
  {
   "cell_type": "markdown",
   "metadata": {},
   "source": [
    "Activities:"
   ]
  },
  {
   "cell_type": "markdown",
   "metadata": {},
   "source": [
    "#### - Business Success Criteria\n",
    "\n",
    "Describe the criteria for a successful or useful outcome to the project\n",
    "from the business point of view. This might be quite specific and able\n",
    "to be measured objectively, such as reduction of customer churn to a\n",
    "certain level or general and subjective such as “give useful insights into\n",
    "the relationships.” In the latter case it should be indicated who makes\n",
    "the subjective judgment.\n"
   ]
  },
  {
   "cell_type": "markdown",
   "metadata": {},
   "source": [
    "Activities:"
   ]
  },
  {
   "cell_type": "markdown",
   "metadata": {},
   "source": [
    "### Assess situation"
   ]
  },
  {
   "cell_type": "markdown",
   "metadata": {},
   "source": [
    "This task involves more detailed fact-finding about all of the resources,\n",
    "constraints, assumptions and other factors that should be considered\n",
    "in determining the data analysis goal and project plan. In the previous\n",
    "task, your objective is to quickly get to the crux of the situation. Here,\n",
    "you want to flesh out the details."
   ]
  },
  {
   "cell_type": "markdown",
   "metadata": {},
   "source": [
    "#### - Inventory of resources\n",
    "\n",
    "List the resources available to the project, including: personnel (business\n",
    "experts, data experts, technical support, data mining personnel),\n",
    "data (fixed extracts, access to live warehoused or operational data),\n",
    "computing resources (hardware platforms) and software (data mining\n",
    "tools, other relevant software)."
   ]
  },
  {
   "cell_type": "markdown",
   "metadata": {},
   "source": [
    "#### - Requirements, assumptions and constraints\n",
    "\n",
    "List all requirements of the project including schedule of completion,\n",
    "comprehensibility and quality of results and security as well as legal issues.\n",
    "As part of this output, make sure that you are allowed to use the data.\n",
    "\n",
    "List the assumptions made by the project. These may be assumptions\n",
    "about the data that can be checked during data mining, but may also\n",
    "include non-checkable assumptions about the business upon which the\n",
    "project rests. It is particularly important to list the latter if they form\n",
    "conditions on the validity of the results.\n",
    "\n",
    "List the constraints on the project. These may be constraints on the\n",
    "availability of resources, but may also include technological constraints\n",
    "such as the size of data that it is practical to use for modeling."
   ]
  },
  {
   "cell_type": "markdown",
   "metadata": {},
   "source": [
    "#### - Risks and contingencies\n",
    "\n",
    "List the risks or events that might occur to delay the project or cause\n",
    "it to fail. List the corresponding contingency plans; what action will be\n",
    "taken if the risks happen."
   ]
  },
  {
   "cell_type": "markdown",
   "metadata": {},
   "source": [
    "#### - Terminology\n",
    "\n",
    "Compile a glossary of terminology relevant to the project. This may\n",
    "include two components:\n",
    "(1) A glossary of relevant business terminology, which forms part of the\n",
    "business understanding available to the project. Constructing this\n",
    "glossary is a useful “knowledge elicitation” and education exercise.\n",
    "(2) A glossary of data mining terminology, illustrated with examples\n",
    "relevant to the business problem in question."
   ]
  },
  {
   "cell_type": "markdown",
   "metadata": {},
   "source": [
    "#### - Costs and benefits\n",
    "\n",
    "Construct a cost-benefit analysis for the project, which compares the\n",
    "costs of the project with the potential benefit to the business if it is\n",
    "successful. The comparison should be as specific as possible, for example\n",
    "using monetary measures in a commercial situation."
   ]
  },
  {
   "cell_type": "code",
   "execution_count": 1,
   "metadata": {
    "collapsed": false,
    "scrolled": false
   },
   "outputs": [
    {
     "data": {
      "text/plain": [
       "2"
      ]
     },
     "execution_count": 1,
     "metadata": {},
     "output_type": "execute_result"
    }
   ],
   "source": [
    "1+1\n"
   ]
  },
  {
   "cell_type": "code",
   "execution_count": 2,
   "metadata": {
    "collapsed": false
   },
   "outputs": [
    {
     "data": {
      "text/plain": [
       "7"
      ]
     },
     "execution_count": 2,
     "metadata": {},
     "output_type": "execute_result"
    }
   ],
   "source": [
    "x=2\n",
    "y=5\n",
    "z=x+y\n",
    "z"
   ]
  },
  {
   "cell_type": "code",
   "execution_count": 1,
   "metadata": {
    "collapsed": false
   },
   "outputs": [
    {
     "data": {
      "text/plain": [
       "100"
      ]
     },
     "execution_count": 1,
     "metadata": {},
     "output_type": "execute_result"
    }
   ],
   "source": [
    "88+12\n"
   ]
  },
  {
   "cell_type": "code",
   "execution_count": 2,
   "metadata": {
    "collapsed": false
   },
   "outputs": [
    {
     "data": {
      "text/plain": [
       "100"
      ]
     },
     "execution_count": 2,
     "metadata": {},
     "output_type": "execute_result"
    }
   ],
   "source": [
    "100"
   ]
  },
  {
   "cell_type": "code",
   "execution_count": 3,
   "metadata": {
    "collapsed": false
   },
   "outputs": [
    {
     "data": {
      "text/plain": [
       "100"
      ]
     },
     "execution_count": 3,
     "metadata": {},
     "output_type": "execute_result"
    }
   ],
   "source": [
    "100"
   ]
  },
  {
   "cell_type": "code",
   "execution_count": null,
   "metadata": {
    "collapsed": true
   },
   "outputs": [],
   "source": []
  }
 ],
 "metadata": {
  "kernelspec": {
   "display_name": "Python 3",
   "language": "python",
   "name": "python3"
  },
  "language_info": {
   "codemirror_mode": {
    "name": "ipython",
    "version": 3
   },
   "file_extension": ".py",
   "mimetype": "text/x-python",
   "name": "python",
   "nbconvert_exporter": "python",
   "pygments_lexer": "ipython3",
   "version": "3.5.1"
  }
 },
 "nbformat": 4,
 "nbformat_minor": 0
}
